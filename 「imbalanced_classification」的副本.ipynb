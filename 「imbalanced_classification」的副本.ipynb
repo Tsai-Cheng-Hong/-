{
  "cells": [
    {
      "cell_type": "markdown",
      "source": [
        "### 掛載雲端硬碟"
      ],
      "metadata": {
        "id": "FzIAX3Kyt2iF"
      }
    },
    {
      "cell_type": "code",
      "source": [
        "from google.colab import drive\n",
        "drive.mount('/content/drive')"
      ],
      "metadata": {
        "colab": {
          "base_uri": "https://localhost:8080/"
        },
        "id": "h5TfABgutvlT",
        "outputId": "0840f5a2-30ed-40dd-d04a-538f4b183067"
      },
      "execution_count": 2,
      "outputs": [
        {
          "output_type": "stream",
          "name": "stdout",
          "text": [
            "Mounted at /content/drive\n"
          ]
        }
      ]
    },
    {
      "cell_type": "markdown",
      "metadata": {
        "id": "_0mh-iyRtaX-"
      },
      "source": [
        "## 1.將資料向量化"
      ]
    },
    {
      "cell_type": "code",
      "execution_count": 3,
      "metadata": {
        "id": "ht8ltKn8taX-",
        "colab": {
          "base_uri": "https://localhost:8080/"
        },
        "outputId": "f41dcc71-2057-486c-e9bb-a0fe6a8bbdcc"
      },
      "outputs": [
        {
          "output_type": "stream",
          "name": "stdout",
          "text": [
            "HEADER: \"Time\",\"V1\",\"V2\",\"V3\",\"V4\",\"V5\",\"V6\",\"V7\",\"V8\",\"V9\",\"V10\",\"V11\",\"V12\",\"V13\",\"V14\",\"V15\",\"V16\",\"V17\",\"V18\",\"V19\",\"V20\",\"V21\",\"V22\",\"V23\",\"V24\",\"V25\",\"V26\",\"V27\",\"V28\",\"Amount\",\"Class\"\n",
            "EXAMPLE FEATURES: [0.0, -1.3598071336738, -0.0727811733098497, 2.53634673796914, 1.37815522427443, -0.338320769942518, 0.462387777762292, 0.239598554061257, 0.0986979012610507, 0.363786969611213, 0.0907941719789316, -0.551599533260813, -0.617800855762348, -0.991389847235408, -0.311169353699879, 1.46817697209427, -0.470400525259478, 0.207971241929242, 0.0257905801985591, 0.403992960255733, 0.251412098239705, -0.018306777944153, 0.277837575558899, -0.110473910188767, 0.0669280749146731, 0.128539358273528, -0.189114843888824, 0.133558376740387, -0.0210530534538215, 149.62]\n",
            "features.shape: (284807, 30)\n",
            "targets.shape: (284807, 1)\n"
          ]
        }
      ],
      "source": [
        "import csv\n",
        "import numpy as np\n",
        "import tensorflow as tf\n",
        "# Get the real data from https://www.kaggle.com/mlg-ulb/creditcardfraud/\n",
        "fname = \"/content/drive/MyDrive/creditcard.csv\"\n",
        "\n",
        "all_features = []\n",
        "all_targets = []\n",
        "with open(fname) as f:\n",
        "    for i, line in enumerate(f):\n",
        "        if i == 0:\n",
        "            print(\"HEADER:\", line.strip())\n",
        "            continue  # Skip header\n",
        "        fields = line.strip().split(\",\")\n",
        "        all_features.append([float(v.replace('\"', \"\")) for v in fields[:-1]])\n",
        "        all_targets.append([int(fields[-1].replace('\"', \"\"))])\n",
        "        if i == 1:\n",
        "            print(\"EXAMPLE FEATURES:\", all_features[-1])\n",
        "\n",
        "features = np.array(all_features, dtype=\"float32\")\n",
        "targets = np.array(all_targets, dtype=\"uint8\")\n",
        "print(\"features.shape:\", features.shape)\n",
        "print(\"targets.shape:\", targets.shape)\n"
      ]
    },
    {
      "cell_type": "markdown",
      "metadata": {
        "id": "uKViJO-jtaX_"
      },
      "source": [
        "## 2.準備驗證資料"
      ]
    },
    {
      "cell_type": "code",
      "execution_count": 4,
      "metadata": {
        "id": "k3mkMnHotaYA",
        "colab": {
          "base_uri": "https://localhost:8080/"
        },
        "outputId": "7780e088-b6b4-4949-c27c-31201380874c"
      },
      "outputs": [
        {
          "output_type": "stream",
          "name": "stdout",
          "text": [
            "Number of training samples: 227846\n",
            "Number of validation samples: 56961\n"
          ]
        }
      ],
      "source": [
        "num_val_samples = int(len(features) * 0.2)\n",
        "train_features = features[:-num_val_samples]\n",
        "train_targets = targets[:-num_val_samples]\n",
        "val_features = features[-num_val_samples:]\n",
        "val_targets = targets[-num_val_samples:]\n",
        "\n",
        "print(\"Number of training samples:\", len(train_features))\n",
        "print(\"Number of validation samples:\", len(val_features))\n"
      ]
    },
    {
      "cell_type": "markdown",
      "metadata": {
        "id": "5QODj63VtaYA"
      },
      "source": [
        "## 3.分析不平衡資料 (少數資料)"
      ]
    },
    {
      "cell_type": "code",
      "execution_count": 5,
      "metadata": {
        "id": "nhWVI1kqtaYB",
        "colab": {
          "base_uri": "https://localhost:8080/"
        },
        "outputId": "f7e27045-857d-4251-eeca-b1f28636288d"
      },
      "outputs": [
        {
          "output_type": "stream",
          "name": "stdout",
          "text": [
            "Number of positive samples in training data: 417 (0.18% of total)\n"
          ]
        }
      ],
      "source": [
        "counts = np.bincount(train_targets[:, 0])\n",
        "print(\n",
        "    \"Number of positive samples in training data: {} ({:.2f}% of total)\".format(\n",
        "        counts[1], 100 * float(counts[1]) / len(train_targets)\n",
        "    )\n",
        ")\n",
        "\n",
        "weight_for_0 = 1.0 / counts[0]\n",
        "weight_for_1 = 1.0 / counts[1]\n"
      ]
    },
    {
      "cell_type": "markdown",
      "metadata": {
        "id": "IrYCIkt6taYC"
      },
      "source": [
        "## 4.統計資料"
      ]
    },
    {
      "cell_type": "code",
      "execution_count": 6,
      "metadata": {
        "id": "vIiadZAJtaYC"
      },
      "outputs": [],
      "source": [
        "mean = np.mean(train_features, axis=0)\n",
        "train_features -= mean\n",
        "val_features -= mean\n",
        "std = np.std(train_features, axis=0)\n",
        "train_features /= std\n",
        "val_features /= std\n"
      ]
    },
    {
      "cell_type": "markdown",
      "metadata": {
        "id": "cOfB_guCtaYD"
      },
      "source": [
        "## 5.建立模型"
      ]
    },
    {
      "cell_type": "code",
      "execution_count": 13,
      "metadata": {
        "id": "wEje6bQctaYD",
        "colab": {
          "base_uri": "https://localhost:8080/"
        },
        "outputId": "b91973ad-a4d4-42cf-883f-820f00b80ea7"
      },
      "outputs": [
        {
          "output_type": "stream",
          "name": "stdout",
          "text": [
            "Model: \"sequential_2\"\n",
            "_________________________________________________________________\n",
            " Layer (type)                Output Shape              Param #   \n",
            "=================================================================\n",
            " dense_8 (Dense)             (None, 256)               7936      \n",
            "                                                                 \n",
            " dense_9 (Dense)             (None, 256)               65792     \n",
            "                                                                 \n",
            " dropout_4 (Dropout)         (None, 256)               0         \n",
            "                                                                 \n",
            " dense_10 (Dense)            (None, 256)               65792     \n",
            "                                                                 \n",
            " dropout_5 (Dropout)         (None, 256)               0         \n",
            "                                                                 \n",
            " dense_11 (Dense)            (None, 1)                 257       \n",
            "                                                                 \n",
            "=================================================================\n",
            "Total params: 139,777\n",
            "Trainable params: 139,777\n",
            "Non-trainable params: 0\n",
            "_________________________________________________________________\n"
          ]
        }
      ],
      "source": [
        "from tensorflow import keras\n",
        "\n",
        "model = keras.Sequential(\n",
        "    [\n",
        "        keras.layers.Dense(\n",
        "            256, activation=\"relu\", input_shape=(train_features.shape[-1],)\n",
        "        ),\n",
        "        keras.layers.Dense(256, activation=\"relu\"),\n",
        "        keras.layers.Dropout(0.3),\n",
        "        keras.layers.Dense(256, activation=\"relu\"),\n",
        "        keras.layers.Dropout(0.3),\n",
        "        keras.layers.Dense(1, activation=\"sigmoid\"),\n",
        "    ]\n",
        ")\n",
        "model.summary()\n"
      ]
    },
    {
      "cell_type": "markdown",
      "source": [
        "### 6.評估指標:F1Score、Recall、Precision"
      ],
      "metadata": {
        "id": "VxKaH79f5yhp"
      }
    },
    {
      "cell_type": "code",
      "source": [
        "from sklearn.metrics import classification_report, accuracy_score\n",
        "class Metrics(tf.keras.callbacks.Callback):\n",
        "    def __init__(self, val_data):\n",
        "        super(Metrics, self).__init__()\n",
        "        self.x_val = val_data[0]\n",
        "        self.y_val = val_data[1]\n",
        "\n",
        "    def on_epoch_end(self, epoch, logs=None):\n",
        "        y_pred = self.model.predict(self.x_val, batch_size=64)\n",
        "        y_pred = np.argmax(y_pred, axis=1)\n",
        "        y_val = np.argmax(self.y_val, axis=1)\n",
        "        result = classification_report(y_val, y_pred)      \n",
        "\n",
        "        print(result)\n",
        "        return"
      ],
      "metadata": {
        "id": "I4-LhpG63ygN"
      },
      "execution_count": 14,
      "outputs": []
    },
    {
      "cell_type": "markdown",
      "metadata": {
        "id": "eVRSe3QytaYD"
      },
      "source": [
        "## 7.使用class_weight訓練模型"
      ]
    },
    {
      "cell_type": "code",
      "execution_count": 16,
      "metadata": {
        "id": "U38UEgKPtaYE",
        "colab": {
          "base_uri": "https://localhost:8080/"
        },
        "outputId": "196b2a95-1c1c-4bfd-bb35-85e005dd3249"
      },
      "outputs": [
        {
          "output_type": "stream",
          "name": "stdout",
          "text": [
            "Epoch 1/30\n",
            "              precision    recall  f1-score   support\n",
            "\n",
            "           0       1.00      1.00      1.00     56961\n",
            "\n",
            "    accuracy                           1.00     56961\n",
            "   macro avg       1.00      1.00      1.00     56961\n",
            "weighted avg       1.00      1.00      1.00     56961\n",
            "\n",
            "1781/1781 - 22s - loss: 3.8018e-06 - fn: 18.0000 - fp: 36899.0000 - tn: 190530.0000 - tp: 399.0000 - precision: 0.0107 - recall: 0.9568 - val_loss: 0.0171 - val_fn: 12.0000 - val_fp: 318.0000 - val_tn: 56568.0000 - val_tp: 63.0000 - val_precision: 0.1654 - val_recall: 0.8400 - 22s/epoch - 12ms/step\n",
            "Epoch 2/30\n",
            "              precision    recall  f1-score   support\n",
            "\n",
            "           0       1.00      1.00      1.00     56961\n",
            "\n",
            "    accuracy                           1.00     56961\n",
            "   macro avg       1.00      1.00      1.00     56961\n",
            "weighted avg       1.00      1.00      1.00     56961\n",
            "\n",
            "1781/1781 - 20s - loss: 3.8545e-06 - fn: 17.0000 - fp: 37271.0000 - tn: 190158.0000 - tp: 400.0000 - precision: 0.0106 - recall: 0.9592 - val_loss: 0.0695 - val_fn: 8.0000 - val_fp: 1885.0000 - val_tn: 55001.0000 - val_tp: 67.0000 - val_precision: 0.0343 - val_recall: 0.8933 - 20s/epoch - 11ms/step\n",
            "Epoch 3/30\n",
            "              precision    recall  f1-score   support\n",
            "\n",
            "           0       1.00      1.00      1.00     56961\n",
            "\n",
            "    accuracy                           1.00     56961\n",
            "   macro avg       1.00      1.00      1.00     56961\n",
            "weighted avg       1.00      1.00      1.00     56961\n",
            "\n",
            "1781/1781 - 20s - loss: 5.0904e-06 - fn: 10.0000 - fp: 30084.0000 - tn: 197345.0000 - tp: 407.0000 - precision: 0.0133 - recall: 0.9760 - val_loss: 0.0444 - val_fn: 9.0000 - val_fp: 664.0000 - val_tn: 56222.0000 - val_tp: 66.0000 - val_precision: 0.0904 - val_recall: 0.8800 - 20s/epoch - 11ms/step\n",
            "Epoch 4/30\n",
            "              precision    recall  f1-score   support\n",
            "\n",
            "           0       1.00      1.00      1.00     56961\n",
            "\n",
            "    accuracy                           1.00     56961\n",
            "   macro avg       1.00      1.00      1.00     56961\n",
            "weighted avg       1.00      1.00      1.00     56961\n",
            "\n",
            "1781/1781 - 19s - loss: 4.2984e-06 - fn: 7.0000 - fp: 37479.0000 - tn: 189950.0000 - tp: 410.0000 - precision: 0.0108 - recall: 0.9832 - val_loss: 0.0884 - val_fn: 8.0000 - val_fp: 2562.0000 - val_tn: 54324.0000 - val_tp: 67.0000 - val_precision: 0.0255 - val_recall: 0.8933 - 19s/epoch - 11ms/step\n",
            "Epoch 5/30\n",
            "              precision    recall  f1-score   support\n",
            "\n",
            "           0       1.00      1.00      1.00     56961\n",
            "\n",
            "    accuracy                           1.00     56961\n",
            "   macro avg       1.00      1.00      1.00     56961\n",
            "weighted avg       1.00      1.00      1.00     56961\n",
            "\n",
            "1781/1781 - 20s - loss: 2.7325e-06 - fn: 10.0000 - fp: 33845.0000 - tn: 193584.0000 - tp: 407.0000 - precision: 0.0119 - recall: 0.9760 - val_loss: 0.0286 - val_fn: 14.0000 - val_fp: 387.0000 - val_tn: 56499.0000 - val_tp: 61.0000 - val_precision: 0.1362 - val_recall: 0.8133 - 20s/epoch - 11ms/step\n",
            "Epoch 6/30\n",
            "              precision    recall  f1-score   support\n",
            "\n",
            "           0       1.00      1.00      1.00     56961\n",
            "\n",
            "    accuracy                           1.00     56961\n",
            "   macro avg       1.00      1.00      1.00     56961\n",
            "weighted avg       1.00      1.00      1.00     56961\n",
            "\n",
            "1781/1781 - 20s - loss: 4.4051e-06 - fn: 9.0000 - fp: 35263.0000 - tn: 192166.0000 - tp: 408.0000 - precision: 0.0114 - recall: 0.9784 - val_loss: 0.2125 - val_fn: 6.0000 - val_fp: 4832.0000 - val_tn: 52054.0000 - val_tp: 69.0000 - val_precision: 0.0141 - val_recall: 0.9200 - 20s/epoch - 11ms/step\n",
            "Epoch 7/30\n",
            "              precision    recall  f1-score   support\n",
            "\n",
            "           0       1.00      1.00      1.00     56961\n",
            "\n",
            "    accuracy                           1.00     56961\n",
            "   macro avg       1.00      1.00      1.00     56961\n",
            "weighted avg       1.00      1.00      1.00     56961\n",
            "\n",
            "1781/1781 - 20s - loss: 2.2186e-06 - fn: 7.0000 - fp: 31141.0000 - tn: 196288.0000 - tp: 410.0000 - precision: 0.0130 - recall: 0.9832 - val_loss: 0.1351 - val_fn: 5.0000 - val_fp: 3333.0000 - val_tn: 53553.0000 - val_tp: 70.0000 - val_precision: 0.0206 - val_recall: 0.9333 - 20s/epoch - 11ms/step\n",
            "Epoch 8/30\n",
            "              precision    recall  f1-score   support\n",
            "\n",
            "           0       1.00      1.00      1.00     56961\n",
            "\n",
            "    accuracy                           1.00     56961\n",
            "   macro avg       1.00      1.00      1.00     56961\n",
            "weighted avg       1.00      1.00      1.00     56961\n",
            "\n",
            "1781/1781 - 18s - loss: 2.7809e-06 - fn: 9.0000 - fp: 35437.0000 - tn: 191992.0000 - tp: 408.0000 - precision: 0.0114 - recall: 0.9784 - val_loss: 0.1295 - val_fn: 6.0000 - val_fp: 2774.0000 - val_tn: 54112.0000 - val_tp: 69.0000 - val_precision: 0.0243 - val_recall: 0.9200 - 18s/epoch - 10ms/step\n",
            "Epoch 9/30\n",
            "              precision    recall  f1-score   support\n",
            "\n",
            "           0       1.00      1.00      1.00     56961\n",
            "\n",
            "    accuracy                           1.00     56961\n",
            "   macro avg       1.00      1.00      1.00     56961\n",
            "weighted avg       1.00      1.00      1.00     56961\n",
            "\n",
            "1781/1781 - 17s - loss: 2.0904e-06 - fn: 10.0000 - fp: 29697.0000 - tn: 197732.0000 - tp: 407.0000 - precision: 0.0135 - recall: 0.9760 - val_loss: 0.0729 - val_fn: 7.0000 - val_fp: 1674.0000 - val_tn: 55212.0000 - val_tp: 68.0000 - val_precision: 0.0390 - val_recall: 0.9067 - 17s/epoch - 10ms/step\n",
            "Epoch 10/30\n",
            "              precision    recall  f1-score   support\n",
            "\n",
            "           0       1.00      1.00      1.00     56961\n",
            "\n",
            "    accuracy                           1.00     56961\n",
            "   macro avg       1.00      1.00      1.00     56961\n",
            "weighted avg       1.00      1.00      1.00     56961\n",
            "\n",
            "1781/1781 - 18s - loss: 2.0979e-06 - fn: 14.0000 - fp: 24361.0000 - tn: 203068.0000 - tp: 403.0000 - precision: 0.0163 - recall: 0.9664 - val_loss: 0.1216 - val_fn: 3.0000 - val_fp: 2886.0000 - val_tn: 54000.0000 - val_tp: 72.0000 - val_precision: 0.0243 - val_recall: 0.9600 - 18s/epoch - 10ms/step\n",
            "Epoch 11/30\n",
            "              precision    recall  f1-score   support\n",
            "\n",
            "           0       1.00      1.00      1.00     56961\n",
            "\n",
            "    accuracy                           1.00     56961\n",
            "   macro avg       1.00      1.00      1.00     56961\n",
            "weighted avg       1.00      1.00      1.00     56961\n",
            "\n",
            "1781/1781 - 19s - loss: 1.5940e-06 - fn: 10.0000 - fp: 20437.0000 - tn: 206992.0000 - tp: 407.0000 - precision: 0.0195 - recall: 0.9760 - val_loss: 0.0780 - val_fn: 6.0000 - val_fp: 1831.0000 - val_tn: 55055.0000 - val_tp: 69.0000 - val_precision: 0.0363 - val_recall: 0.9200 - 19s/epoch - 11ms/step\n",
            "Epoch 12/30\n",
            "              precision    recall  f1-score   support\n",
            "\n",
            "           0       1.00      1.00      1.00     56961\n",
            "\n",
            "    accuracy                           1.00     56961\n",
            "   macro avg       1.00      1.00      1.00     56961\n",
            "weighted avg       1.00      1.00      1.00     56961\n",
            "\n",
            "1781/1781 - 21s - loss: 1.2008e-06 - fn: 5.0000 - fp: 14818.0000 - tn: 212611.0000 - tp: 412.0000 - precision: 0.0271 - recall: 0.9880 - val_loss: 0.0398 - val_fn: 8.0000 - val_fp: 747.0000 - val_tn: 56139.0000 - val_tp: 67.0000 - val_precision: 0.0823 - val_recall: 0.8933 - 21s/epoch - 12ms/step\n",
            "Epoch 13/30\n",
            "              precision    recall  f1-score   support\n",
            "\n",
            "           0       1.00      1.00      1.00     56961\n",
            "\n",
            "    accuracy                           1.00     56961\n",
            "   macro avg       1.00      1.00      1.00     56961\n",
            "weighted avg       1.00      1.00      1.00     56961\n",
            "\n",
            "1781/1781 - 19s - loss: 2.6350e-06 - fn: 10.0000 - fp: 28704.0000 - tn: 198725.0000 - tp: 407.0000 - precision: 0.0140 - recall: 0.9760 - val_loss: 0.1572 - val_fn: 5.0000 - val_fp: 3808.0000 - val_tn: 53078.0000 - val_tp: 70.0000 - val_precision: 0.0181 - val_recall: 0.9333 - 19s/epoch - 11ms/step\n",
            "Epoch 14/30\n",
            "              precision    recall  f1-score   support\n",
            "\n",
            "           0       1.00      1.00      1.00     56961\n",
            "\n",
            "    accuracy                           1.00     56961\n",
            "   macro avg       1.00      1.00      1.00     56961\n",
            "weighted avg       1.00      1.00      1.00     56961\n",
            "\n",
            "1781/1781 - 20s - loss: 2.8862e-06 - fn: 8.0000 - fp: 24983.0000 - tn: 202446.0000 - tp: 409.0000 - precision: 0.0161 - recall: 0.9808 - val_loss: 0.1497 - val_fn: 6.0000 - val_fp: 3939.0000 - val_tn: 52947.0000 - val_tp: 69.0000 - val_precision: 0.0172 - val_recall: 0.9200 - 20s/epoch - 11ms/step\n",
            "Epoch 15/30\n",
            "              precision    recall  f1-score   support\n",
            "\n",
            "           0       1.00      1.00      1.00     56961\n",
            "\n",
            "    accuracy                           1.00     56961\n",
            "   macro avg       1.00      1.00      1.00     56961\n",
            "weighted avg       1.00      1.00      1.00     56961\n",
            "\n",
            "1781/1781 - 21s - loss: 2.2743e-06 - fn: 8.0000 - fp: 26102.0000 - tn: 201327.0000 - tp: 409.0000 - precision: 0.0154 - recall: 0.9808 - val_loss: 0.0900 - val_fn: 8.0000 - val_fp: 2267.0000 - val_tn: 54619.0000 - val_tp: 67.0000 - val_precision: 0.0287 - val_recall: 0.8933 - 21s/epoch - 12ms/step\n",
            "Epoch 16/30\n",
            "              precision    recall  f1-score   support\n",
            "\n",
            "           0       1.00      1.00      1.00     56961\n",
            "\n",
            "    accuracy                           1.00     56961\n",
            "   macro avg       1.00      1.00      1.00     56961\n",
            "weighted avg       1.00      1.00      1.00     56961\n",
            "\n",
            "1781/1781 - 20s - loss: 1.9784e-06 - fn: 7.0000 - fp: 21770.0000 - tn: 205659.0000 - tp: 410.0000 - precision: 0.0185 - recall: 0.9832 - val_loss: 0.0312 - val_fn: 7.0000 - val_fp: 650.0000 - val_tn: 56236.0000 - val_tp: 68.0000 - val_precision: 0.0947 - val_recall: 0.9067 - 20s/epoch - 11ms/step\n",
            "Epoch 17/30\n",
            "              precision    recall  f1-score   support\n",
            "\n",
            "           0       1.00      1.00      1.00     56961\n",
            "\n",
            "    accuracy                           1.00     56961\n",
            "   macro avg       1.00      1.00      1.00     56961\n",
            "weighted avg       1.00      1.00      1.00     56961\n",
            "\n",
            "1781/1781 - 19s - loss: 2.0327e-06 - fn: 11.0000 - fp: 20644.0000 - tn: 206785.0000 - tp: 406.0000 - precision: 0.0193 - recall: 0.9736 - val_loss: 0.0424 - val_fn: 9.0000 - val_fp: 866.0000 - val_tn: 56020.0000 - val_tp: 66.0000 - val_precision: 0.0708 - val_recall: 0.8800 - 19s/epoch - 11ms/step\n",
            "Epoch 18/30\n",
            "              precision    recall  f1-score   support\n",
            "\n",
            "           0       1.00      1.00      1.00     56961\n",
            "\n",
            "    accuracy                           1.00     56961\n",
            "   macro avg       1.00      1.00      1.00     56961\n",
            "weighted avg       1.00      1.00      1.00     56961\n",
            "\n",
            "1781/1781 - 19s - loss: 1.7798e-06 - fn: 9.0000 - fp: 24168.0000 - tn: 203261.0000 - tp: 408.0000 - precision: 0.0166 - recall: 0.9784 - val_loss: 0.1134 - val_fn: 5.0000 - val_fp: 2607.0000 - val_tn: 54279.0000 - val_tp: 70.0000 - val_precision: 0.0261 - val_recall: 0.9333 - 19s/epoch - 11ms/step\n",
            "Epoch 19/30\n",
            "              precision    recall  f1-score   support\n",
            "\n",
            "           0       1.00      1.00      1.00     56961\n",
            "\n",
            "    accuracy                           1.00     56961\n",
            "   macro avg       1.00      1.00      1.00     56961\n",
            "weighted avg       1.00      1.00      1.00     56961\n",
            "\n",
            "1781/1781 - 18s - loss: 1.2372e-06 - fn: 5.0000 - fp: 18635.0000 - tn: 208794.0000 - tp: 412.0000 - precision: 0.0216 - recall: 0.9880 - val_loss: 0.0287 - val_fn: 12.0000 - val_fp: 393.0000 - val_tn: 56493.0000 - val_tp: 63.0000 - val_precision: 0.1382 - val_recall: 0.8400 - 18s/epoch - 10ms/step\n",
            "Epoch 20/30\n",
            "              precision    recall  f1-score   support\n",
            "\n",
            "           0       1.00      1.00      1.00     56961\n",
            "\n",
            "    accuracy                           1.00     56961\n",
            "   macro avg       1.00      1.00      1.00     56961\n",
            "weighted avg       1.00      1.00      1.00     56961\n",
            "\n",
            "1781/1781 - 19s - loss: 1.3535e-06 - fn: 8.0000 - fp: 16695.0000 - tn: 210734.0000 - tp: 409.0000 - precision: 0.0239 - recall: 0.9808 - val_loss: 0.0216 - val_fn: 12.0000 - val_fp: 251.0000 - val_tn: 56635.0000 - val_tp: 63.0000 - val_precision: 0.2006 - val_recall: 0.8400 - 19s/epoch - 11ms/step\n",
            "Epoch 21/30\n",
            "              precision    recall  f1-score   support\n",
            "\n",
            "           0       1.00      1.00      1.00     56961\n",
            "\n",
            "    accuracy                           1.00     56961\n",
            "   macro avg       1.00      1.00      1.00     56961\n",
            "weighted avg       1.00      1.00      1.00     56961\n",
            "\n",
            "1781/1781 - 19s - loss: 1.6828e-06 - fn: 9.0000 - fp: 16872.0000 - tn: 210557.0000 - tp: 408.0000 - precision: 0.0236 - recall: 0.9784 - val_loss: 0.0390 - val_fn: 9.0000 - val_fp: 687.0000 - val_tn: 56199.0000 - val_tp: 66.0000 - val_precision: 0.0876 - val_recall: 0.8800 - 19s/epoch - 10ms/step\n",
            "Epoch 22/30\n",
            "              precision    recall  f1-score   support\n",
            "\n",
            "           0       1.00      1.00      1.00     56961\n",
            "\n",
            "    accuracy                           1.00     56961\n",
            "   macro avg       1.00      1.00      1.00     56961\n",
            "weighted avg       1.00      1.00      1.00     56961\n",
            "\n",
            "1781/1781 - 19s - loss: 1.1258e-06 - fn: 5.0000 - fp: 16392.0000 - tn: 211037.0000 - tp: 412.0000 - precision: 0.0245 - recall: 0.9880 - val_loss: 0.0537 - val_fn: 9.0000 - val_fp: 904.0000 - val_tn: 55982.0000 - val_tp: 66.0000 - val_precision: 0.0680 - val_recall: 0.8800 - 19s/epoch - 11ms/step\n",
            "Epoch 23/30\n",
            "              precision    recall  f1-score   support\n",
            "\n",
            "           0       1.00      1.00      1.00     56961\n",
            "\n",
            "    accuracy                           1.00     56961\n",
            "   macro avg       1.00      1.00      1.00     56961\n",
            "weighted avg       1.00      1.00      1.00     56961\n",
            "\n",
            "1781/1781 - 19s - loss: 1.5121e-06 - fn: 8.0000 - fp: 18305.0000 - tn: 209124.0000 - tp: 409.0000 - precision: 0.0219 - recall: 0.9808 - val_loss: 0.0577 - val_fn: 8.0000 - val_fp: 1179.0000 - val_tn: 55707.0000 - val_tp: 67.0000 - val_precision: 0.0538 - val_recall: 0.8933 - 19s/epoch - 10ms/step\n",
            "Epoch 24/30\n",
            "              precision    recall  f1-score   support\n",
            "\n",
            "           0       1.00      1.00      1.00     56961\n",
            "\n",
            "    accuracy                           1.00     56961\n",
            "   macro avg       1.00      1.00      1.00     56961\n",
            "weighted avg       1.00      1.00      1.00     56961\n",
            "\n",
            "1781/1781 - 19s - loss: 2.7624e-06 - fn: 7.0000 - fp: 25791.0000 - tn: 201638.0000 - tp: 410.0000 - precision: 0.0156 - recall: 0.9832 - val_loss: 0.0837 - val_fn: 6.0000 - val_fp: 2405.0000 - val_tn: 54481.0000 - val_tp: 69.0000 - val_precision: 0.0279 - val_recall: 0.9200 - 19s/epoch - 11ms/step\n",
            "Epoch 25/30\n",
            "              precision    recall  f1-score   support\n",
            "\n",
            "           0       1.00      1.00      1.00     56961\n",
            "\n",
            "    accuracy                           1.00     56961\n",
            "   macro avg       1.00      1.00      1.00     56961\n",
            "weighted avg       1.00      1.00      1.00     56961\n",
            "\n",
            "1781/1781 - 19s - loss: 1.5249e-06 - fn: 4.0000 - fp: 31949.0000 - tn: 195480.0000 - tp: 413.0000 - precision: 0.0128 - recall: 0.9904 - val_loss: 0.0646 - val_fn: 8.0000 - val_fp: 1241.0000 - val_tn: 55645.0000 - val_tp: 67.0000 - val_precision: 0.0512 - val_recall: 0.8933 - 19s/epoch - 11ms/step\n",
            "Epoch 26/30\n",
            "              precision    recall  f1-score   support\n",
            "\n",
            "           0       1.00      1.00      1.00     56961\n",
            "\n",
            "    accuracy                           1.00     56961\n",
            "   macro avg       1.00      1.00      1.00     56961\n",
            "weighted avg       1.00      1.00      1.00     56961\n",
            "\n",
            "1781/1781 - 18s - loss: 1.7004e-06 - fn: 5.0000 - fp: 29472.0000 - tn: 197957.0000 - tp: 412.0000 - precision: 0.0138 - recall: 0.9880 - val_loss: 0.0620 - val_fn: 9.0000 - val_fp: 1516.0000 - val_tn: 55370.0000 - val_tp: 66.0000 - val_precision: 0.0417 - val_recall: 0.8800 - 18s/epoch - 10ms/step\n",
            "Epoch 27/30\n",
            "              precision    recall  f1-score   support\n",
            "\n",
            "           0       1.00      1.00      1.00     56961\n",
            "\n",
            "    accuracy                           1.00     56961\n",
            "   macro avg       1.00      1.00      1.00     56961\n",
            "weighted avg       1.00      1.00      1.00     56961\n",
            "\n",
            "1781/1781 - 20s - loss: 1.3799e-06 - fn: 6.0000 - fp: 30485.0000 - tn: 196944.0000 - tp: 411.0000 - precision: 0.0133 - recall: 0.9856 - val_loss: 0.0293 - val_fn: 10.0000 - val_fp: 1150.0000 - val_tn: 55736.0000 - val_tp: 65.0000 - val_precision: 0.0535 - val_recall: 0.8667 - 20s/epoch - 11ms/step\n",
            "Epoch 28/30\n",
            "              precision    recall  f1-score   support\n",
            "\n",
            "           0       1.00      1.00      1.00     56961\n",
            "\n",
            "    accuracy                           1.00     56961\n",
            "   macro avg       1.00      1.00      1.00     56961\n",
            "weighted avg       1.00      1.00      1.00     56961\n",
            "\n",
            "1781/1781 - 17s - loss: 2.2998e-06 - fn: 4.0000 - fp: 36970.0000 - tn: 190459.0000 - tp: 413.0000 - precision: 0.0110 - recall: 0.9904 - val_loss: 0.0291 - val_fn: 8.0000 - val_fp: 724.0000 - val_tn: 56162.0000 - val_tp: 67.0000 - val_precision: 0.0847 - val_recall: 0.8933 - 17s/epoch - 10ms/step\n",
            "Epoch 29/30\n",
            "              precision    recall  f1-score   support\n",
            "\n",
            "           0       1.00      1.00      1.00     56961\n",
            "\n",
            "    accuracy                           1.00     56961\n",
            "   macro avg       1.00      1.00      1.00     56961\n",
            "weighted avg       1.00      1.00      1.00     56961\n",
            "\n",
            "1781/1781 - 19s - loss: 1.5921e-06 - fn: 7.0000 - fp: 34726.0000 - tn: 192703.0000 - tp: 410.0000 - precision: 0.0117 - recall: 0.9832 - val_loss: 0.0163 - val_fn: 10.0000 - val_fp: 354.0000 - val_tn: 56532.0000 - val_tp: 65.0000 - val_precision: 0.1551 - val_recall: 0.8667 - 19s/epoch - 11ms/step\n",
            "Epoch 30/30\n",
            "              precision    recall  f1-score   support\n",
            "\n",
            "           0       1.00      1.00      1.00     56961\n",
            "\n",
            "    accuracy                           1.00     56961\n",
            "   macro avg       1.00      1.00      1.00     56961\n",
            "weighted avg       1.00      1.00      1.00     56961\n",
            "\n",
            "1781/1781 - 19s - loss: 2.3616e-06 - fn: 7.0000 - fp: 38609.0000 - tn: 188820.0000 - tp: 410.0000 - precision: 0.0105 - recall: 0.9832 - val_loss: 0.0359 - val_fn: 8.0000 - val_fp: 1600.0000 - val_tn: 55286.0000 - val_tp: 67.0000 - val_precision: 0.0402 - val_recall: 0.8933 - 19s/epoch - 11ms/step\n"
          ]
        },
        {
          "output_type": "execute_result",
          "data": {
            "text/plain": [
              "<keras.callbacks.History at 0x7fea230bc6d0>"
            ]
          },
          "metadata": {},
          "execution_count": 16
        }
      ],
      "source": [
        "metrics = [\n",
        "    keras.metrics.FalseNegatives(name=\"fn\"),\n",
        "    keras.metrics.FalsePositives(name=\"fp\"),\n",
        "    keras.metrics.TrueNegatives(name=\"tn\"),\n",
        "    keras.metrics.TruePositives(name=\"tp\"),\n",
        "    keras.metrics.Precision(name=\"precision\"),\n",
        "    keras.metrics.Recall(name=\"recall\"),\n",
        "]\n",
        "\n",
        "model.compile(\n",
        "    optimizer=keras.optimizers.Adam(1e-2), loss=\"binary_crossentropy\", metrics=metrics\n",
        ")\n",
        "\n",
        "# callbacks = [keras.callbacks.ModelCheckpoint(\"fraud_model_at_epoch_{epoch}.h5\")]\n",
        "class_weight = {0: weight_for_0, 1: weight_for_1}\n",
        "\n",
        "model.fit(\n",
        "    train_features,\n",
        "    train_targets,\n",
        "    batch_size=128,\n",
        "    epochs=30,\n",
        "    verbose=2,\n",
        "    callbacks=Metrics(val_data=(val_features, val_targets)),\n",
        "    validation_data=(val_features, val_targets),\n",
        "    class_weight=class_weight,\n",
        ")\n"
      ]
    }
  ],
  "metadata": {
    "colab": {
      "collapsed_sections": [],
      "name": "「imbalanced_classification」的副本",
      "provenance": []
    },
    "kernelspec": {
      "display_name": "Python 3",
      "language": "python",
      "name": "python3"
    },
    "language_info": {
      "codemirror_mode": {
        "name": "ipython",
        "version": 3
      },
      "file_extension": ".py",
      "mimetype": "text/x-python",
      "name": "python",
      "nbconvert_exporter": "python",
      "pygments_lexer": "ipython3",
      "version": "3.7.0"
    }
  },
  "nbformat": 4,
  "nbformat_minor": 0
}